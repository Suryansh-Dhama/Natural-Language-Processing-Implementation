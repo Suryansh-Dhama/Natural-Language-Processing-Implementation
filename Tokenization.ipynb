{
 "cells": [
  {
   "cell_type": "markdown",
   "id": "0a21758a-130f-46d3-806e-b233ac771118",
   "metadata": {},
   "source": [
    "# TOKENIZATION"
   ]
  },
  {
   "cell_type": "code",
   "execution_count": 1,
   "id": "b192c938-9f43-4489-850d-67aba1259c5a",
   "metadata": {},
   "outputs": [],
   "source": [
    "corpus = \"\"\"\n",
    "Twinkle, twinkle, little star\n",
    "How I wonder what you are\n",
    "Up above the world so high\n",
    "Like a diamond in the sky\n",
    "Twinkle, twinkle little star\n",
    "How I wonder what you are\n",
    "When the blazing sun is gone\n",
    "When he nothing shines upon\n",
    "Then you show your little light\n",
    "Twinkle, twinkle, all the night\n",
    "Twinkle, twinkle, little star\n",
    "How I wonder what you are\n",
    "\"\"\""
   ]
  },
  {
   "cell_type": "markdown",
   "id": "af4dbf36-6949-481b-8555-98920dd971ac",
   "metadata": {},
   "source": [
    "### Paragraph ----> Sentence"
   ]
  },
  {
   "cell_type": "code",
   "execution_count": 2,
   "id": "1042f1e5-5953-492d-83e8-42a7e11d6263",
   "metadata": {},
   "outputs": [],
   "source": [
    "from nltk.tokenize import sent_tokenize"
   ]
  },
  {
   "cell_type": "code",
   "execution_count": 3,
   "id": "8e79f8c0-4ff3-495c-ae7c-c0e0423db824",
   "metadata": {},
   "outputs": [
    {
     "data": {
      "text/plain": [
       "['\\nTwinkle, twinkle, little star\\nHow I wonder what you are\\nUp above the world so high\\nLike a diamond in the sky\\nTwinkle, twinkle little star\\nHow I wonder what you are\\nWhen the blazing sun is gone\\nWhen he nothing shines upon\\nThen you show your little light\\nTwinkle, twinkle, all the night\\nTwinkle, twinkle, little star\\nHow I wonder what you are']"
      ]
     },
     "execution_count": 3,
     "metadata": {},
     "output_type": "execute_result"
    }
   ],
   "source": [
    "sent_tokenize(corpus)"
   ]
  },
  {
   "cell_type": "markdown",
   "id": "3d5d9025-9ff3-4f02-ad34-7cab8bdc9ff4",
   "metadata": {},
   "source": [
    "### Paragraph ---> Words"
   ]
  },
  {
   "cell_type": "code",
   "execution_count": 4,
   "id": "88bf4ca1-0ecd-4eb4-b21f-b0dbfcea3e17",
   "metadata": {},
   "outputs": [],
   "source": [
    "from nltk.tokenize import word_tokenize"
   ]
  },
  {
   "cell_type": "code",
   "execution_count": 5,
   "id": "2ff61482-c340-45ce-816e-c09915916215",
   "metadata": {},
   "outputs": [
    {
     "data": {
      "text/plain": [
       "['Twinkle',\n",
       " ',',\n",
       " 'twinkle',\n",
       " ',',\n",
       " 'little',\n",
       " 'star',\n",
       " 'How',\n",
       " 'I',\n",
       " 'wonder',\n",
       " 'what',\n",
       " 'you',\n",
       " 'are',\n",
       " 'Up',\n",
       " 'above',\n",
       " 'the',\n",
       " 'world',\n",
       " 'so',\n",
       " 'high',\n",
       " 'Like',\n",
       " 'a',\n",
       " 'diamond',\n",
       " 'in',\n",
       " 'the',\n",
       " 'sky',\n",
       " 'Twinkle',\n",
       " ',',\n",
       " 'twinkle',\n",
       " 'little',\n",
       " 'star',\n",
       " 'How',\n",
       " 'I',\n",
       " 'wonder',\n",
       " 'what',\n",
       " 'you',\n",
       " 'are',\n",
       " 'When',\n",
       " 'the',\n",
       " 'blazing',\n",
       " 'sun',\n",
       " 'is',\n",
       " 'gone',\n",
       " 'When',\n",
       " 'he',\n",
       " 'nothing',\n",
       " 'shines',\n",
       " 'upon',\n",
       " 'Then',\n",
       " 'you',\n",
       " 'show',\n",
       " 'your',\n",
       " 'little',\n",
       " 'light',\n",
       " 'Twinkle',\n",
       " ',',\n",
       " 'twinkle',\n",
       " ',',\n",
       " 'all',\n",
       " 'the',\n",
       " 'night',\n",
       " 'Twinkle',\n",
       " ',',\n",
       " 'twinkle',\n",
       " ',',\n",
       " 'little',\n",
       " 'star',\n",
       " 'How',\n",
       " 'I',\n",
       " 'wonder',\n",
       " 'what',\n",
       " 'you',\n",
       " 'are']"
      ]
     },
     "execution_count": 5,
     "metadata": {},
     "output_type": "execute_result"
    }
   ],
   "source": [
    "word_tokenize(corpus)"
   ]
  },
  {
   "cell_type": "code",
   "execution_count": 6,
   "id": "66a6fb28-6fac-4a5b-b56b-9611d87eb721",
   "metadata": {},
   "outputs": [],
   "source": [
    "from nltk.tokenize import wordpunct_tokenize"
   ]
  },
  {
   "cell_type": "code",
   "execution_count": 7,
   "id": "433d60e9-58d4-42c4-b624-d40467f899b6",
   "metadata": {},
   "outputs": [
    {
     "data": {
      "text/plain": [
       "['Twinkle',\n",
       " ',',\n",
       " 'twinkle',\n",
       " ',',\n",
       " 'little',\n",
       " 'star',\n",
       " 'How',\n",
       " 'I',\n",
       " 'wonder',\n",
       " 'what',\n",
       " 'you',\n",
       " 'are',\n",
       " 'Up',\n",
       " 'above',\n",
       " 'the',\n",
       " 'world',\n",
       " 'so',\n",
       " 'high',\n",
       " 'Like',\n",
       " 'a',\n",
       " 'diamond',\n",
       " 'in',\n",
       " 'the',\n",
       " 'sky',\n",
       " 'Twinkle',\n",
       " ',',\n",
       " 'twinkle',\n",
       " 'little',\n",
       " 'star',\n",
       " 'How',\n",
       " 'I',\n",
       " 'wonder',\n",
       " 'what',\n",
       " 'you',\n",
       " 'are',\n",
       " 'When',\n",
       " 'the',\n",
       " 'blazing',\n",
       " 'sun',\n",
       " 'is',\n",
       " 'gone',\n",
       " 'When',\n",
       " 'he',\n",
       " 'nothing',\n",
       " 'shines',\n",
       " 'upon',\n",
       " 'Then',\n",
       " 'you',\n",
       " 'show',\n",
       " 'your',\n",
       " 'little',\n",
       " 'light',\n",
       " 'Twinkle',\n",
       " ',',\n",
       " 'twinkle',\n",
       " ',',\n",
       " 'all',\n",
       " 'the',\n",
       " 'night',\n",
       " 'Twinkle',\n",
       " ',',\n",
       " 'twinkle',\n",
       " ',',\n",
       " 'little',\n",
       " 'star',\n",
       " 'How',\n",
       " 'I',\n",
       " 'wonder',\n",
       " 'what',\n",
       " 'you',\n",
       " 'are']"
      ]
     },
     "execution_count": 7,
     "metadata": {},
     "output_type": "execute_result"
    }
   ],
   "source": [
    "wordpunct_tokenize(corpus)"
   ]
  },
  {
   "cell_type": "code",
   "execution_count": 8,
   "id": "21cbae41-e5e4-4bf2-a3c7-90f7c8909693",
   "metadata": {},
   "outputs": [],
   "source": [
    "from nltk.tokenize import TreebankWordTokenizer"
   ]
  },
  {
   "cell_type": "code",
   "execution_count": 9,
   "id": "07e2c315-90db-44c5-a995-3a6592cc8ca4",
   "metadata": {},
   "outputs": [],
   "source": [
    "tokenizer=TreebankWordTokenizer()"
   ]
  },
  {
   "cell_type": "code",
   "execution_count": 10,
   "id": "0eaa88ae-1d3d-4cdd-8cdb-02aea6713fc6",
   "metadata": {},
   "outputs": [
    {
     "data": {
      "text/plain": [
       "['Twinkle',\n",
       " ',',\n",
       " 'twinkle',\n",
       " ',',\n",
       " 'little',\n",
       " 'star',\n",
       " 'How',\n",
       " 'I',\n",
       " 'wonder',\n",
       " 'what',\n",
       " 'you',\n",
       " 'are',\n",
       " 'Up',\n",
       " 'above',\n",
       " 'the',\n",
       " 'world',\n",
       " 'so',\n",
       " 'high',\n",
       " 'Like',\n",
       " 'a',\n",
       " 'diamond',\n",
       " 'in',\n",
       " 'the',\n",
       " 'sky',\n",
       " 'Twinkle',\n",
       " ',',\n",
       " 'twinkle',\n",
       " 'little',\n",
       " 'star',\n",
       " 'How',\n",
       " 'I',\n",
       " 'wonder',\n",
       " 'what',\n",
       " 'you',\n",
       " 'are',\n",
       " 'When',\n",
       " 'the',\n",
       " 'blazing',\n",
       " 'sun',\n",
       " 'is',\n",
       " 'gone',\n",
       " 'When',\n",
       " 'he',\n",
       " 'nothing',\n",
       " 'shines',\n",
       " 'upon',\n",
       " 'Then',\n",
       " 'you',\n",
       " 'show',\n",
       " 'your',\n",
       " 'little',\n",
       " 'light',\n",
       " 'Twinkle',\n",
       " ',',\n",
       " 'twinkle',\n",
       " ',',\n",
       " 'all',\n",
       " 'the',\n",
       " 'night',\n",
       " 'Twinkle',\n",
       " ',',\n",
       " 'twinkle',\n",
       " ',',\n",
       " 'little',\n",
       " 'star',\n",
       " 'How',\n",
       " 'I',\n",
       " 'wonder',\n",
       " 'what',\n",
       " 'you',\n",
       " 'are']"
      ]
     },
     "execution_count": 10,
     "metadata": {},
     "output_type": "execute_result"
    }
   ],
   "source": [
    "tokenizer.tokenize(corpus)"
   ]
  }
 ],
 "metadata": {
  "kernelspec": {
   "display_name": "Python 3 (ipykernel)",
   "language": "python",
   "name": "python3"
  },
  "language_info": {
   "codemirror_mode": {
    "name": "ipython",
    "version": 3
   },
   "file_extension": ".py",
   "mimetype": "text/x-python",
   "name": "python",
   "nbconvert_exporter": "python",
   "pygments_lexer": "ipython3",
   "version": "3.13.5"
  }
 },
 "nbformat": 4,
 "nbformat_minor": 5
}
